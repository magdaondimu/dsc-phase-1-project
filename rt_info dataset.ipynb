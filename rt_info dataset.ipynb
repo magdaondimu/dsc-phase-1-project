{
 "cells": [
  {
   "cell_type": "code",
   "execution_count": 1,
   "id": "8c90276f",
   "metadata": {},
   "outputs": [],
   "source": [
    "#import libraries\n",
    "import pandas as pd\n",
    "import matplotlib.pyplot as plt\n",
    "import numpy as np\n",
    "import seaborn as sns\n",
    "%matplotlib inline"
   ]
  },
  {
   "cell_type": "code",
   "execution_count": 2,
   "id": "aedfe44d",
   "metadata": {
    "scrolled": true
   },
   "outputs": [
    {
     "data": {
      "text/html": [
       "<div>\n",
       "<style scoped>\n",
       "    .dataframe tbody tr th:only-of-type {\n",
       "        vertical-align: middle;\n",
       "    }\n",
       "\n",
       "    .dataframe tbody tr th {\n",
       "        vertical-align: top;\n",
       "    }\n",
       "\n",
       "    .dataframe thead th {\n",
       "        text-align: right;\n",
       "    }\n",
       "</style>\n",
       "<table border=\"1\" class=\"dataframe\">\n",
       "  <thead>\n",
       "    <tr style=\"text-align: right;\">\n",
       "      <th></th>\n",
       "      <th>id</th>\n",
       "      <th>synopsis</th>\n",
       "      <th>rating</th>\n",
       "      <th>genre</th>\n",
       "      <th>director</th>\n",
       "      <th>writer</th>\n",
       "      <th>theater_date</th>\n",
       "      <th>dvd_date</th>\n",
       "      <th>currency</th>\n",
       "      <th>box_office</th>\n",
       "      <th>runtime</th>\n",
       "      <th>studio</th>\n",
       "    </tr>\n",
       "  </thead>\n",
       "  <tbody>\n",
       "    <tr>\n",
       "      <th>0</th>\n",
       "      <td>1</td>\n",
       "      <td>This gritty, fast-paced, and innovative police...</td>\n",
       "      <td>R</td>\n",
       "      <td>Action and Adventure|Classics|Drama</td>\n",
       "      <td>William Friedkin</td>\n",
       "      <td>Ernest Tidyman</td>\n",
       "      <td>Oct 9, 1971</td>\n",
       "      <td>Sep 25, 2001</td>\n",
       "      <td>NaN</td>\n",
       "      <td>NaN</td>\n",
       "      <td>104 minutes</td>\n",
       "      <td>NaN</td>\n",
       "    </tr>\n",
       "    <tr>\n",
       "      <th>1</th>\n",
       "      <td>3</td>\n",
       "      <td>New York City, not-too-distant-future: Eric Pa...</td>\n",
       "      <td>R</td>\n",
       "      <td>Drama|Science Fiction and Fantasy</td>\n",
       "      <td>David Cronenberg</td>\n",
       "      <td>David Cronenberg|Don DeLillo</td>\n",
       "      <td>Aug 17, 2012</td>\n",
       "      <td>Jan 1, 2013</td>\n",
       "      <td>$</td>\n",
       "      <td>600,000</td>\n",
       "      <td>108 minutes</td>\n",
       "      <td>Entertainment One</td>\n",
       "    </tr>\n",
       "    <tr>\n",
       "      <th>2</th>\n",
       "      <td>5</td>\n",
       "      <td>Illeana Douglas delivers a superb performance ...</td>\n",
       "      <td>R</td>\n",
       "      <td>Drama|Musical and Performing Arts</td>\n",
       "      <td>Allison Anders</td>\n",
       "      <td>Allison Anders</td>\n",
       "      <td>Sep 13, 1996</td>\n",
       "      <td>Apr 18, 2000</td>\n",
       "      <td>NaN</td>\n",
       "      <td>NaN</td>\n",
       "      <td>116 minutes</td>\n",
       "      <td>NaN</td>\n",
       "    </tr>\n",
       "    <tr>\n",
       "      <th>3</th>\n",
       "      <td>6</td>\n",
       "      <td>Michael Douglas runs afoul of a treacherous su...</td>\n",
       "      <td>R</td>\n",
       "      <td>Drama|Mystery and Suspense</td>\n",
       "      <td>Barry Levinson</td>\n",
       "      <td>Paul Attanasio|Michael Crichton</td>\n",
       "      <td>Dec 9, 1994</td>\n",
       "      <td>Aug 27, 1997</td>\n",
       "      <td>NaN</td>\n",
       "      <td>NaN</td>\n",
       "      <td>128 minutes</td>\n",
       "      <td>NaN</td>\n",
       "    </tr>\n",
       "    <tr>\n",
       "      <th>4</th>\n",
       "      <td>7</td>\n",
       "      <td>NaN</td>\n",
       "      <td>NR</td>\n",
       "      <td>Drama|Romance</td>\n",
       "      <td>Rodney Bennett</td>\n",
       "      <td>Giles Cooper</td>\n",
       "      <td>NaN</td>\n",
       "      <td>NaN</td>\n",
       "      <td>NaN</td>\n",
       "      <td>NaN</td>\n",
       "      <td>200 minutes</td>\n",
       "      <td>NaN</td>\n",
       "    </tr>\n",
       "    <tr>\n",
       "      <th>...</th>\n",
       "      <td>...</td>\n",
       "      <td>...</td>\n",
       "      <td>...</td>\n",
       "      <td>...</td>\n",
       "      <td>...</td>\n",
       "      <td>...</td>\n",
       "      <td>...</td>\n",
       "      <td>...</td>\n",
       "      <td>...</td>\n",
       "      <td>...</td>\n",
       "      <td>...</td>\n",
       "      <td>...</td>\n",
       "    </tr>\n",
       "    <tr>\n",
       "      <th>1555</th>\n",
       "      <td>1996</td>\n",
       "      <td>Forget terrorists or hijackers -- there's a ha...</td>\n",
       "      <td>R</td>\n",
       "      <td>Action and Adventure|Horror|Mystery and Suspense</td>\n",
       "      <td>NaN</td>\n",
       "      <td>NaN</td>\n",
       "      <td>Aug 18, 2006</td>\n",
       "      <td>Jan 2, 2007</td>\n",
       "      <td>$</td>\n",
       "      <td>33,886,034</td>\n",
       "      <td>106 minutes</td>\n",
       "      <td>New Line Cinema</td>\n",
       "    </tr>\n",
       "    <tr>\n",
       "      <th>1556</th>\n",
       "      <td>1997</td>\n",
       "      <td>The popular Saturday Night Live sketch was exp...</td>\n",
       "      <td>PG</td>\n",
       "      <td>Comedy|Science Fiction and Fantasy</td>\n",
       "      <td>Steve Barron</td>\n",
       "      <td>Terry Turner|Tom Davis|Dan Aykroyd|Bonnie Turner</td>\n",
       "      <td>Jul 23, 1993</td>\n",
       "      <td>Apr 17, 2001</td>\n",
       "      <td>NaN</td>\n",
       "      <td>NaN</td>\n",
       "      <td>88 minutes</td>\n",
       "      <td>Paramount Vantage</td>\n",
       "    </tr>\n",
       "    <tr>\n",
       "      <th>1557</th>\n",
       "      <td>1998</td>\n",
       "      <td>Based on a novel by Richard Powell, when the l...</td>\n",
       "      <td>G</td>\n",
       "      <td>Classics|Comedy|Drama|Musical and Performing Arts</td>\n",
       "      <td>Gordon Douglas</td>\n",
       "      <td>NaN</td>\n",
       "      <td>Jan 1, 1962</td>\n",
       "      <td>May 11, 2004</td>\n",
       "      <td>NaN</td>\n",
       "      <td>NaN</td>\n",
       "      <td>111 minutes</td>\n",
       "      <td>NaN</td>\n",
       "    </tr>\n",
       "    <tr>\n",
       "      <th>1558</th>\n",
       "      <td>1999</td>\n",
       "      <td>The Sandlot is a coming-of-age story about a g...</td>\n",
       "      <td>PG</td>\n",
       "      <td>Comedy|Drama|Kids and Family|Sports and Fitness</td>\n",
       "      <td>David Mickey Evans</td>\n",
       "      <td>David Mickey Evans|Robert Gunter</td>\n",
       "      <td>Apr 1, 1993</td>\n",
       "      <td>Jan 29, 2002</td>\n",
       "      <td>NaN</td>\n",
       "      <td>NaN</td>\n",
       "      <td>101 minutes</td>\n",
       "      <td>NaN</td>\n",
       "    </tr>\n",
       "    <tr>\n",
       "      <th>1559</th>\n",
       "      <td>2000</td>\n",
       "      <td>Suspended from the force, Paris cop Hubert is ...</td>\n",
       "      <td>R</td>\n",
       "      <td>Action and Adventure|Art House and Internation...</td>\n",
       "      <td>NaN</td>\n",
       "      <td>Luc Besson</td>\n",
       "      <td>Sep 27, 2001</td>\n",
       "      <td>Feb 11, 2003</td>\n",
       "      <td>NaN</td>\n",
       "      <td>NaN</td>\n",
       "      <td>94 minutes</td>\n",
       "      <td>Columbia Pictures</td>\n",
       "    </tr>\n",
       "  </tbody>\n",
       "</table>\n",
       "<p>1560 rows × 12 columns</p>\n",
       "</div>"
      ],
      "text/plain": [
       "        id                                           synopsis rating  \\\n",
       "0        1  This gritty, fast-paced, and innovative police...      R   \n",
       "1        3  New York City, not-too-distant-future: Eric Pa...      R   \n",
       "2        5  Illeana Douglas delivers a superb performance ...      R   \n",
       "3        6  Michael Douglas runs afoul of a treacherous su...      R   \n",
       "4        7                                                NaN     NR   \n",
       "...    ...                                                ...    ...   \n",
       "1555  1996  Forget terrorists or hijackers -- there's a ha...      R   \n",
       "1556  1997  The popular Saturday Night Live sketch was exp...     PG   \n",
       "1557  1998  Based on a novel by Richard Powell, when the l...      G   \n",
       "1558  1999  The Sandlot is a coming-of-age story about a g...     PG   \n",
       "1559  2000  Suspended from the force, Paris cop Hubert is ...      R   \n",
       "\n",
       "                                                  genre            director  \\\n",
       "0                   Action and Adventure|Classics|Drama    William Friedkin   \n",
       "1                     Drama|Science Fiction and Fantasy    David Cronenberg   \n",
       "2                     Drama|Musical and Performing Arts      Allison Anders   \n",
       "3                            Drama|Mystery and Suspense      Barry Levinson   \n",
       "4                                         Drama|Romance      Rodney Bennett   \n",
       "...                                                 ...                 ...   \n",
       "1555   Action and Adventure|Horror|Mystery and Suspense                 NaN   \n",
       "1556                 Comedy|Science Fiction and Fantasy        Steve Barron   \n",
       "1557  Classics|Comedy|Drama|Musical and Performing Arts      Gordon Douglas   \n",
       "1558    Comedy|Drama|Kids and Family|Sports and Fitness  David Mickey Evans   \n",
       "1559  Action and Adventure|Art House and Internation...                 NaN   \n",
       "\n",
       "                                                writer  theater_date  \\\n",
       "0                                       Ernest Tidyman   Oct 9, 1971   \n",
       "1                         David Cronenberg|Don DeLillo  Aug 17, 2012   \n",
       "2                                       Allison Anders  Sep 13, 1996   \n",
       "3                      Paul Attanasio|Michael Crichton   Dec 9, 1994   \n",
       "4                                         Giles Cooper           NaN   \n",
       "...                                                ...           ...   \n",
       "1555                                               NaN  Aug 18, 2006   \n",
       "1556  Terry Turner|Tom Davis|Dan Aykroyd|Bonnie Turner  Jul 23, 1993   \n",
       "1557                                               NaN   Jan 1, 1962   \n",
       "1558                  David Mickey Evans|Robert Gunter   Apr 1, 1993   \n",
       "1559                                        Luc Besson  Sep 27, 2001   \n",
       "\n",
       "          dvd_date currency  box_office      runtime             studio  \n",
       "0     Sep 25, 2001      NaN         NaN  104 minutes                NaN  \n",
       "1      Jan 1, 2013        $     600,000  108 minutes  Entertainment One  \n",
       "2     Apr 18, 2000      NaN         NaN  116 minutes                NaN  \n",
       "3     Aug 27, 1997      NaN         NaN  128 minutes                NaN  \n",
       "4              NaN      NaN         NaN  200 minutes                NaN  \n",
       "...            ...      ...         ...          ...                ...  \n",
       "1555   Jan 2, 2007        $  33,886,034  106 minutes    New Line Cinema  \n",
       "1556  Apr 17, 2001      NaN         NaN   88 minutes  Paramount Vantage  \n",
       "1557  May 11, 2004      NaN         NaN  111 minutes                NaN  \n",
       "1558  Jan 29, 2002      NaN         NaN  101 minutes                NaN  \n",
       "1559  Feb 11, 2003      NaN         NaN   94 minutes  Columbia Pictures  \n",
       "\n",
       "[1560 rows x 12 columns]"
      ]
     },
     "execution_count": 2,
     "metadata": {},
     "output_type": "execute_result"
    }
   ],
   "source": [
    "rt_info = pd.read_csv(r\"C:\\Users\\Magda\\OneDrive\\Documents\\Flatiron\\rt.movie_info.tsv\", sep='\\t')\n",
    "rt_info"
   ]
  },
  {
   "cell_type": "code",
   "execution_count": 3,
   "id": "3ff3f2b6",
   "metadata": {},
   "outputs": [],
   "source": [
    "rt_info1 = rt_info.copy(deep=True)"
   ]
  },
  {
   "cell_type": "code",
   "execution_count": 4,
   "id": "1654c97f",
   "metadata": {
    "scrolled": true
   },
   "outputs": [
    {
     "name": "stdout",
     "output_type": "stream",
     "text": [
      "<class 'pandas.core.frame.DataFrame'>\n",
      "RangeIndex: 1560 entries, 0 to 1559\n",
      "Data columns (total 12 columns):\n",
      " #   Column        Non-Null Count  Dtype \n",
      "---  ------        --------------  ----- \n",
      " 0   id            1560 non-null   int64 \n",
      " 1   synopsis      1498 non-null   object\n",
      " 2   rating        1557 non-null   object\n",
      " 3   genre         1552 non-null   object\n",
      " 4   director      1361 non-null   object\n",
      " 5   writer        1111 non-null   object\n",
      " 6   theater_date  1201 non-null   object\n",
      " 7   dvd_date      1201 non-null   object\n",
      " 8   currency      340 non-null    object\n",
      " 9   box_office    340 non-null    object\n",
      " 10  runtime       1530 non-null   object\n",
      " 11  studio        494 non-null    object\n",
      "dtypes: int64(1), object(11)\n",
      "memory usage: 146.4+ KB\n"
     ]
    }
   ],
   "source": [
    "rt_info.info()"
   ]
  },
  {
   "cell_type": "code",
   "execution_count": 5,
   "id": "17f21767",
   "metadata": {},
   "outputs": [
    {
     "data": {
      "text/plain": [
       "0         William Friedkin\n",
       "1         David Cronenberg\n",
       "2           Allison Anders\n",
       "3           Barry Levinson\n",
       "4           Rodney Bennett\n",
       "               ...        \n",
       "1555                   NaN\n",
       "1556          Steve Barron\n",
       "1557        Gordon Douglas\n",
       "1558    David Mickey Evans\n",
       "1559                   NaN\n",
       "Name: director, Length: 1560, dtype: object"
      ]
     },
     "execution_count": 5,
     "metadata": {},
     "output_type": "execute_result"
    }
   ],
   "source": [
    "rt_info['director']"
   ]
  },
  {
   "cell_type": "code",
   "execution_count": 6,
   "id": "a159f6c2",
   "metadata": {},
   "outputs": [
    {
     "data": {
      "text/html": [
       "<div>\n",
       "<style scoped>\n",
       "    .dataframe tbody tr th:only-of-type {\n",
       "        vertical-align: middle;\n",
       "    }\n",
       "\n",
       "    .dataframe tbody tr th {\n",
       "        vertical-align: top;\n",
       "    }\n",
       "\n",
       "    .dataframe thead th {\n",
       "        text-align: right;\n",
       "    }\n",
       "</style>\n",
       "<table border=\"1\" class=\"dataframe\">\n",
       "  <thead>\n",
       "    <tr style=\"text-align: right;\">\n",
       "      <th></th>\n",
       "      <th>id</th>\n",
       "    </tr>\n",
       "  </thead>\n",
       "  <tbody>\n",
       "    <tr>\n",
       "      <th>count</th>\n",
       "      <td>1560.000000</td>\n",
       "    </tr>\n",
       "    <tr>\n",
       "      <th>mean</th>\n",
       "      <td>1007.303846</td>\n",
       "    </tr>\n",
       "    <tr>\n",
       "      <th>std</th>\n",
       "      <td>579.164527</td>\n",
       "    </tr>\n",
       "    <tr>\n",
       "      <th>min</th>\n",
       "      <td>1.000000</td>\n",
       "    </tr>\n",
       "    <tr>\n",
       "      <th>25%</th>\n",
       "      <td>504.750000</td>\n",
       "    </tr>\n",
       "    <tr>\n",
       "      <th>50%</th>\n",
       "      <td>1007.500000</td>\n",
       "    </tr>\n",
       "    <tr>\n",
       "      <th>75%</th>\n",
       "      <td>1503.250000</td>\n",
       "    </tr>\n",
       "    <tr>\n",
       "      <th>max</th>\n",
       "      <td>2000.000000</td>\n",
       "    </tr>\n",
       "  </tbody>\n",
       "</table>\n",
       "</div>"
      ],
      "text/plain": [
       "                id\n",
       "count  1560.000000\n",
       "mean   1007.303846\n",
       "std     579.164527\n",
       "min       1.000000\n",
       "25%     504.750000\n",
       "50%    1007.500000\n",
       "75%    1503.250000\n",
       "max    2000.000000"
      ]
     },
     "execution_count": 6,
     "metadata": {},
     "output_type": "execute_result"
    }
   ],
   "source": [
    "rt_info.describe()"
   ]
  },
  {
   "cell_type": "code",
   "execution_count": 7,
   "id": "dd7b83cd",
   "metadata": {},
   "outputs": [
    {
     "data": {
      "text/plain": [
       "0              NaN\n",
       "1          600,000\n",
       "2              NaN\n",
       "3              NaN\n",
       "4              NaN\n",
       "           ...    \n",
       "1555    33,886,034\n",
       "1556           NaN\n",
       "1557           NaN\n",
       "1558           NaN\n",
       "1559           NaN\n",
       "Name: box_office, Length: 1560, dtype: object"
      ]
     },
     "execution_count": 7,
     "metadata": {},
     "output_type": "execute_result"
    }
   ],
   "source": [
    "rt_info['box_office']"
   ]
  },
  {
   "cell_type": "code",
   "execution_count": 8,
   "id": "64f1cd47",
   "metadata": {},
   "outputs": [
    {
     "data": {
      "text/plain": [
       "0       NaN\n",
       "1         $\n",
       "2       NaN\n",
       "3       NaN\n",
       "4       NaN\n",
       "       ... \n",
       "1555      $\n",
       "1556    NaN\n",
       "1557    NaN\n",
       "1558    NaN\n",
       "1559    NaN\n",
       "Name: currency, Length: 1560, dtype: object"
      ]
     },
     "execution_count": 8,
     "metadata": {},
     "output_type": "execute_result"
    }
   ],
   "source": [
    "rt_info['currency']"
   ]
  },
  {
   "cell_type": "markdown",
   "id": "0cc6431b",
   "metadata": {},
   "source": [
    "CHECKING MISSING VALUES"
   ]
  },
  {
   "cell_type": "code",
   "execution_count": 9,
   "id": "b1413ff6",
   "metadata": {},
   "outputs": [
    {
     "data": {
      "text/plain": [
       "True"
      ]
     },
     "execution_count": 9,
     "metadata": {},
     "output_type": "execute_result"
    }
   ],
   "source": [
    "rt_info.isnull().values.any()"
   ]
  },
  {
   "cell_type": "code",
   "execution_count": 10,
   "id": "1d54b906",
   "metadata": {},
   "outputs": [
    {
     "data": {
      "text/plain": [
       "4975"
      ]
     },
     "execution_count": 10,
     "metadata": {},
     "output_type": "execute_result"
    }
   ],
   "source": [
    "rt_info.isnull().sum().sum()"
   ]
  },
  {
   "cell_type": "code",
   "execution_count": 11,
   "id": "8c3a2e4f",
   "metadata": {},
   "outputs": [
    {
     "data": {
      "text/html": [
       "<div>\n",
       "<style scoped>\n",
       "    .dataframe tbody tr th:only-of-type {\n",
       "        vertical-align: middle;\n",
       "    }\n",
       "\n",
       "    .dataframe tbody tr th {\n",
       "        vertical-align: top;\n",
       "    }\n",
       "\n",
       "    .dataframe thead th {\n",
       "        text-align: right;\n",
       "    }\n",
       "</style>\n",
       "<table border=\"1\" class=\"dataframe\">\n",
       "  <thead>\n",
       "    <tr style=\"text-align: right;\">\n",
       "      <th></th>\n",
       "      <th>id</th>\n",
       "      <th>synopsis</th>\n",
       "      <th>rating</th>\n",
       "      <th>genre</th>\n",
       "      <th>director</th>\n",
       "      <th>writer</th>\n",
       "      <th>theater_date</th>\n",
       "      <th>dvd_date</th>\n",
       "      <th>currency</th>\n",
       "      <th>box_office</th>\n",
       "      <th>runtime</th>\n",
       "      <th>studio</th>\n",
       "    </tr>\n",
       "  </thead>\n",
       "  <tbody>\n",
       "    <tr>\n",
       "      <th>0</th>\n",
       "      <td>1</td>\n",
       "      <td>This gritty, fast-paced, and innovative police...</td>\n",
       "      <td>R</td>\n",
       "      <td>Action and Adventure|Classics|Drama</td>\n",
       "      <td>William Friedkin</td>\n",
       "      <td>Ernest Tidyman</td>\n",
       "      <td>Oct 9, 1971</td>\n",
       "      <td>Sep 25, 2001</td>\n",
       "      <td>NaN</td>\n",
       "      <td>NaN</td>\n",
       "      <td>104 minutes</td>\n",
       "      <td>NaN</td>\n",
       "    </tr>\n",
       "    <tr>\n",
       "      <th>1</th>\n",
       "      <td>3</td>\n",
       "      <td>New York City, not-too-distant-future: Eric Pa...</td>\n",
       "      <td>R</td>\n",
       "      <td>Drama|Science Fiction and Fantasy</td>\n",
       "      <td>David Cronenberg</td>\n",
       "      <td>David Cronenberg|Don DeLillo</td>\n",
       "      <td>Aug 17, 2012</td>\n",
       "      <td>Jan 1, 2013</td>\n",
       "      <td>$</td>\n",
       "      <td>600,000</td>\n",
       "      <td>108 minutes</td>\n",
       "      <td>Entertainment One</td>\n",
       "    </tr>\n",
       "    <tr>\n",
       "      <th>2</th>\n",
       "      <td>5</td>\n",
       "      <td>Illeana Douglas delivers a superb performance ...</td>\n",
       "      <td>R</td>\n",
       "      <td>Drama|Musical and Performing Arts</td>\n",
       "      <td>Allison Anders</td>\n",
       "      <td>Allison Anders</td>\n",
       "      <td>Sep 13, 1996</td>\n",
       "      <td>Apr 18, 2000</td>\n",
       "      <td>NaN</td>\n",
       "      <td>NaN</td>\n",
       "      <td>116 minutes</td>\n",
       "      <td>NaN</td>\n",
       "    </tr>\n",
       "    <tr>\n",
       "      <th>3</th>\n",
       "      <td>6</td>\n",
       "      <td>Michael Douglas runs afoul of a treacherous su...</td>\n",
       "      <td>R</td>\n",
       "      <td>Drama|Mystery and Suspense</td>\n",
       "      <td>Barry Levinson</td>\n",
       "      <td>Paul Attanasio|Michael Crichton</td>\n",
       "      <td>Dec 9, 1994</td>\n",
       "      <td>Aug 27, 1997</td>\n",
       "      <td>NaN</td>\n",
       "      <td>NaN</td>\n",
       "      <td>128 minutes</td>\n",
       "      <td>NaN</td>\n",
       "    </tr>\n",
       "    <tr>\n",
       "      <th>4</th>\n",
       "      <td>7</td>\n",
       "      <td>NaN</td>\n",
       "      <td>NR</td>\n",
       "      <td>Drama|Romance</td>\n",
       "      <td>Rodney Bennett</td>\n",
       "      <td>Giles Cooper</td>\n",
       "      <td>NaN</td>\n",
       "      <td>NaN</td>\n",
       "      <td>NaN</td>\n",
       "      <td>NaN</td>\n",
       "      <td>200 minutes</td>\n",
       "      <td>NaN</td>\n",
       "    </tr>\n",
       "    <tr>\n",
       "      <th>...</th>\n",
       "      <td>...</td>\n",
       "      <td>...</td>\n",
       "      <td>...</td>\n",
       "      <td>...</td>\n",
       "      <td>...</td>\n",
       "      <td>...</td>\n",
       "      <td>...</td>\n",
       "      <td>...</td>\n",
       "      <td>...</td>\n",
       "      <td>...</td>\n",
       "      <td>...</td>\n",
       "      <td>...</td>\n",
       "    </tr>\n",
       "    <tr>\n",
       "      <th>1555</th>\n",
       "      <td>1996</td>\n",
       "      <td>Forget terrorists or hijackers -- there's a ha...</td>\n",
       "      <td>R</td>\n",
       "      <td>Action and Adventure|Horror|Mystery and Suspense</td>\n",
       "      <td>NaN</td>\n",
       "      <td>NaN</td>\n",
       "      <td>Aug 18, 2006</td>\n",
       "      <td>Jan 2, 2007</td>\n",
       "      <td>$</td>\n",
       "      <td>33,886,034</td>\n",
       "      <td>106 minutes</td>\n",
       "      <td>New Line Cinema</td>\n",
       "    </tr>\n",
       "    <tr>\n",
       "      <th>1556</th>\n",
       "      <td>1997</td>\n",
       "      <td>The popular Saturday Night Live sketch was exp...</td>\n",
       "      <td>PG</td>\n",
       "      <td>Comedy|Science Fiction and Fantasy</td>\n",
       "      <td>Steve Barron</td>\n",
       "      <td>Terry Turner|Tom Davis|Dan Aykroyd|Bonnie Turner</td>\n",
       "      <td>Jul 23, 1993</td>\n",
       "      <td>Apr 17, 2001</td>\n",
       "      <td>NaN</td>\n",
       "      <td>NaN</td>\n",
       "      <td>88 minutes</td>\n",
       "      <td>Paramount Vantage</td>\n",
       "    </tr>\n",
       "    <tr>\n",
       "      <th>1557</th>\n",
       "      <td>1998</td>\n",
       "      <td>Based on a novel by Richard Powell, when the l...</td>\n",
       "      <td>G</td>\n",
       "      <td>Classics|Comedy|Drama|Musical and Performing Arts</td>\n",
       "      <td>Gordon Douglas</td>\n",
       "      <td>NaN</td>\n",
       "      <td>Jan 1, 1962</td>\n",
       "      <td>May 11, 2004</td>\n",
       "      <td>NaN</td>\n",
       "      <td>NaN</td>\n",
       "      <td>111 minutes</td>\n",
       "      <td>NaN</td>\n",
       "    </tr>\n",
       "    <tr>\n",
       "      <th>1558</th>\n",
       "      <td>1999</td>\n",
       "      <td>The Sandlot is a coming-of-age story about a g...</td>\n",
       "      <td>PG</td>\n",
       "      <td>Comedy|Drama|Kids and Family|Sports and Fitness</td>\n",
       "      <td>David Mickey Evans</td>\n",
       "      <td>David Mickey Evans|Robert Gunter</td>\n",
       "      <td>Apr 1, 1993</td>\n",
       "      <td>Jan 29, 2002</td>\n",
       "      <td>NaN</td>\n",
       "      <td>NaN</td>\n",
       "      <td>101 minutes</td>\n",
       "      <td>NaN</td>\n",
       "    </tr>\n",
       "    <tr>\n",
       "      <th>1559</th>\n",
       "      <td>2000</td>\n",
       "      <td>Suspended from the force, Paris cop Hubert is ...</td>\n",
       "      <td>R</td>\n",
       "      <td>Action and Adventure|Art House and Internation...</td>\n",
       "      <td>NaN</td>\n",
       "      <td>Luc Besson</td>\n",
       "      <td>Sep 27, 2001</td>\n",
       "      <td>Feb 11, 2003</td>\n",
       "      <td>NaN</td>\n",
       "      <td>NaN</td>\n",
       "      <td>94 minutes</td>\n",
       "      <td>Columbia Pictures</td>\n",
       "    </tr>\n",
       "  </tbody>\n",
       "</table>\n",
       "<p>1560 rows × 12 columns</p>\n",
       "</div>"
      ],
      "text/plain": [
       "        id                                           synopsis rating  \\\n",
       "0        1  This gritty, fast-paced, and innovative police...      R   \n",
       "1        3  New York City, not-too-distant-future: Eric Pa...      R   \n",
       "2        5  Illeana Douglas delivers a superb performance ...      R   \n",
       "3        6  Michael Douglas runs afoul of a treacherous su...      R   \n",
       "4        7                                                NaN     NR   \n",
       "...    ...                                                ...    ...   \n",
       "1555  1996  Forget terrorists or hijackers -- there's a ha...      R   \n",
       "1556  1997  The popular Saturday Night Live sketch was exp...     PG   \n",
       "1557  1998  Based on a novel by Richard Powell, when the l...      G   \n",
       "1558  1999  The Sandlot is a coming-of-age story about a g...     PG   \n",
       "1559  2000  Suspended from the force, Paris cop Hubert is ...      R   \n",
       "\n",
       "                                                  genre            director  \\\n",
       "0                   Action and Adventure|Classics|Drama    William Friedkin   \n",
       "1                     Drama|Science Fiction and Fantasy    David Cronenberg   \n",
       "2                     Drama|Musical and Performing Arts      Allison Anders   \n",
       "3                            Drama|Mystery and Suspense      Barry Levinson   \n",
       "4                                         Drama|Romance      Rodney Bennett   \n",
       "...                                                 ...                 ...   \n",
       "1555   Action and Adventure|Horror|Mystery and Suspense                 NaN   \n",
       "1556                 Comedy|Science Fiction and Fantasy        Steve Barron   \n",
       "1557  Classics|Comedy|Drama|Musical and Performing Arts      Gordon Douglas   \n",
       "1558    Comedy|Drama|Kids and Family|Sports and Fitness  David Mickey Evans   \n",
       "1559  Action and Adventure|Art House and Internation...                 NaN   \n",
       "\n",
       "                                                writer  theater_date  \\\n",
       "0                                       Ernest Tidyman   Oct 9, 1971   \n",
       "1                         David Cronenberg|Don DeLillo  Aug 17, 2012   \n",
       "2                                       Allison Anders  Sep 13, 1996   \n",
       "3                      Paul Attanasio|Michael Crichton   Dec 9, 1994   \n",
       "4                                         Giles Cooper           NaN   \n",
       "...                                                ...           ...   \n",
       "1555                                               NaN  Aug 18, 2006   \n",
       "1556  Terry Turner|Tom Davis|Dan Aykroyd|Bonnie Turner  Jul 23, 1993   \n",
       "1557                                               NaN   Jan 1, 1962   \n",
       "1558                  David Mickey Evans|Robert Gunter   Apr 1, 1993   \n",
       "1559                                        Luc Besson  Sep 27, 2001   \n",
       "\n",
       "          dvd_date currency  box_office      runtime             studio  \n",
       "0     Sep 25, 2001      NaN         NaN  104 minutes                NaN  \n",
       "1      Jan 1, 2013        $     600,000  108 minutes  Entertainment One  \n",
       "2     Apr 18, 2000      NaN         NaN  116 minutes                NaN  \n",
       "3     Aug 27, 1997      NaN         NaN  128 minutes                NaN  \n",
       "4              NaN      NaN         NaN  200 minutes                NaN  \n",
       "...            ...      ...         ...          ...                ...  \n",
       "1555   Jan 2, 2007        $  33,886,034  106 minutes    New Line Cinema  \n",
       "1556  Apr 17, 2001      NaN         NaN   88 minutes  Paramount Vantage  \n",
       "1557  May 11, 2004      NaN         NaN  111 minutes                NaN  \n",
       "1558  Jan 29, 2002      NaN         NaN  101 minutes                NaN  \n",
       "1559  Feb 11, 2003      NaN         NaN   94 minutes  Columbia Pictures  \n",
       "\n",
       "[1560 rows x 12 columns]"
      ]
     },
     "execution_count": 11,
     "metadata": {},
     "output_type": "execute_result"
    }
   ],
   "source": [
    "rt_info.interpolate(method='linear', limit_direction='forward')"
   ]
  },
  {
   "cell_type": "code",
   "execution_count": 12,
   "id": "a8a67e1b",
   "metadata": {},
   "outputs": [],
   "source": [
    "rt_info.drop(['currency', 'box_office', 'studio'], axis=1, inplace=True)"
   ]
  },
  {
   "cell_type": "code",
   "execution_count": 13,
   "id": "b702d0bc",
   "metadata": {},
   "outputs": [
    {
     "name": "stdout",
     "output_type": "stream",
     "text": [
      "<class 'pandas.core.frame.DataFrame'>\n",
      "RangeIndex: 1560 entries, 0 to 1559\n",
      "Data columns (total 9 columns):\n",
      " #   Column        Non-Null Count  Dtype \n",
      "---  ------        --------------  ----- \n",
      " 0   id            1560 non-null   int64 \n",
      " 1   synopsis      1498 non-null   object\n",
      " 2   rating        1557 non-null   object\n",
      " 3   genre         1552 non-null   object\n",
      " 4   director      1361 non-null   object\n",
      " 5   writer        1111 non-null   object\n",
      " 6   theater_date  1201 non-null   object\n",
      " 7   dvd_date      1201 non-null   object\n",
      " 8   runtime       1530 non-null   object\n",
      "dtypes: int64(1), object(8)\n",
      "memory usage: 109.8+ KB\n"
     ]
    }
   ],
   "source": [
    "rt_info.info()"
   ]
  },
  {
   "cell_type": "code",
   "execution_count": 14,
   "id": "5f985904",
   "metadata": {},
   "outputs": [
    {
     "data": {
      "text/plain": [
       "True"
      ]
     },
     "execution_count": 14,
     "metadata": {},
     "output_type": "execute_result"
    }
   ],
   "source": [
    "rt_info.isnull().values.any()"
   ]
  },
  {
   "cell_type": "code",
   "execution_count": 15,
   "id": "bf70bc93",
   "metadata": {},
   "outputs": [
    {
     "data": {
      "text/plain": [
       "1469"
      ]
     },
     "execution_count": 15,
     "metadata": {},
     "output_type": "execute_result"
    }
   ],
   "source": [
    "rt_info.isnull().sum().sum()"
   ]
  },
  {
   "cell_type": "code",
   "execution_count": 16,
   "id": "6c058dca",
   "metadata": {},
   "outputs": [
    {
     "data": {
      "text/html": [
       "<div>\n",
       "<style scoped>\n",
       "    .dataframe tbody tr th:only-of-type {\n",
       "        vertical-align: middle;\n",
       "    }\n",
       "\n",
       "    .dataframe tbody tr th {\n",
       "        vertical-align: top;\n",
       "    }\n",
       "\n",
       "    .dataframe thead th {\n",
       "        text-align: right;\n",
       "    }\n",
       "</style>\n",
       "<table border=\"1\" class=\"dataframe\">\n",
       "  <thead>\n",
       "    <tr style=\"text-align: right;\">\n",
       "      <th></th>\n",
       "      <th>id</th>\n",
       "      <th>synopsis</th>\n",
       "      <th>rating</th>\n",
       "      <th>genre</th>\n",
       "      <th>director</th>\n",
       "      <th>writer</th>\n",
       "      <th>theater_date</th>\n",
       "      <th>dvd_date</th>\n",
       "      <th>runtime</th>\n",
       "    </tr>\n",
       "  </thead>\n",
       "  <tbody>\n",
       "    <tr>\n",
       "      <th>0</th>\n",
       "      <td>1</td>\n",
       "      <td>This gritty, fast-paced, and innovative police...</td>\n",
       "      <td>R</td>\n",
       "      <td>Action and Adventure|Classics|Drama</td>\n",
       "      <td>William Friedkin</td>\n",
       "      <td>Ernest Tidyman</td>\n",
       "      <td>Oct 9, 1971</td>\n",
       "      <td>Sep 25, 2001</td>\n",
       "      <td>104 minutes</td>\n",
       "    </tr>\n",
       "    <tr>\n",
       "      <th>1</th>\n",
       "      <td>3</td>\n",
       "      <td>New York City, not-too-distant-future: Eric Pa...</td>\n",
       "      <td>R</td>\n",
       "      <td>Drama|Science Fiction and Fantasy</td>\n",
       "      <td>David Cronenberg</td>\n",
       "      <td>David Cronenberg|Don DeLillo</td>\n",
       "      <td>Aug 17, 2012</td>\n",
       "      <td>Jan 1, 2013</td>\n",
       "      <td>108 minutes</td>\n",
       "    </tr>\n",
       "    <tr>\n",
       "      <th>2</th>\n",
       "      <td>5</td>\n",
       "      <td>Illeana Douglas delivers a superb performance ...</td>\n",
       "      <td>R</td>\n",
       "      <td>Drama|Musical and Performing Arts</td>\n",
       "      <td>Allison Anders</td>\n",
       "      <td>Allison Anders</td>\n",
       "      <td>Sep 13, 1996</td>\n",
       "      <td>Apr 18, 2000</td>\n",
       "      <td>116 minutes</td>\n",
       "    </tr>\n",
       "    <tr>\n",
       "      <th>3</th>\n",
       "      <td>6</td>\n",
       "      <td>Michael Douglas runs afoul of a treacherous su...</td>\n",
       "      <td>R</td>\n",
       "      <td>Drama|Mystery and Suspense</td>\n",
       "      <td>Barry Levinson</td>\n",
       "      <td>Paul Attanasio|Michael Crichton</td>\n",
       "      <td>Dec 9, 1994</td>\n",
       "      <td>Aug 27, 1997</td>\n",
       "      <td>128 minutes</td>\n",
       "    </tr>\n",
       "    <tr>\n",
       "      <th>4</th>\n",
       "      <td>7</td>\n",
       "      <td>Michael Douglas runs afoul of a treacherous su...</td>\n",
       "      <td>NR</td>\n",
       "      <td>Drama|Romance</td>\n",
       "      <td>Rodney Bennett</td>\n",
       "      <td>Giles Cooper</td>\n",
       "      <td>Dec 9, 1994</td>\n",
       "      <td>Aug 27, 1997</td>\n",
       "      <td>200 minutes</td>\n",
       "    </tr>\n",
       "    <tr>\n",
       "      <th>...</th>\n",
       "      <td>...</td>\n",
       "      <td>...</td>\n",
       "      <td>...</td>\n",
       "      <td>...</td>\n",
       "      <td>...</td>\n",
       "      <td>...</td>\n",
       "      <td>...</td>\n",
       "      <td>...</td>\n",
       "      <td>...</td>\n",
       "    </tr>\n",
       "    <tr>\n",
       "      <th>1555</th>\n",
       "      <td>1996</td>\n",
       "      <td>Forget terrorists or hijackers -- there's a ha...</td>\n",
       "      <td>R</td>\n",
       "      <td>Action and Adventure|Horror|Mystery and Suspense</td>\n",
       "      <td>Barry Sonnenfeld</td>\n",
       "      <td>Joel Coen|Ethan Coen</td>\n",
       "      <td>Aug 18, 2006</td>\n",
       "      <td>Jan 2, 2007</td>\n",
       "      <td>106 minutes</td>\n",
       "    </tr>\n",
       "    <tr>\n",
       "      <th>1556</th>\n",
       "      <td>1997</td>\n",
       "      <td>The popular Saturday Night Live sketch was exp...</td>\n",
       "      <td>PG</td>\n",
       "      <td>Comedy|Science Fiction and Fantasy</td>\n",
       "      <td>Steve Barron</td>\n",
       "      <td>Terry Turner|Tom Davis|Dan Aykroyd|Bonnie Turner</td>\n",
       "      <td>Jul 23, 1993</td>\n",
       "      <td>Apr 17, 2001</td>\n",
       "      <td>88 minutes</td>\n",
       "    </tr>\n",
       "    <tr>\n",
       "      <th>1557</th>\n",
       "      <td>1998</td>\n",
       "      <td>Based on a novel by Richard Powell, when the l...</td>\n",
       "      <td>G</td>\n",
       "      <td>Classics|Comedy|Drama|Musical and Performing Arts</td>\n",
       "      <td>Gordon Douglas</td>\n",
       "      <td>Terry Turner|Tom Davis|Dan Aykroyd|Bonnie Turner</td>\n",
       "      <td>Jan 1, 1962</td>\n",
       "      <td>May 11, 2004</td>\n",
       "      <td>111 minutes</td>\n",
       "    </tr>\n",
       "    <tr>\n",
       "      <th>1558</th>\n",
       "      <td>1999</td>\n",
       "      <td>The Sandlot is a coming-of-age story about a g...</td>\n",
       "      <td>PG</td>\n",
       "      <td>Comedy|Drama|Kids and Family|Sports and Fitness</td>\n",
       "      <td>David Mickey Evans</td>\n",
       "      <td>David Mickey Evans|Robert Gunter</td>\n",
       "      <td>Apr 1, 1993</td>\n",
       "      <td>Jan 29, 2002</td>\n",
       "      <td>101 minutes</td>\n",
       "    </tr>\n",
       "    <tr>\n",
       "      <th>1559</th>\n",
       "      <td>2000</td>\n",
       "      <td>Suspended from the force, Paris cop Hubert is ...</td>\n",
       "      <td>R</td>\n",
       "      <td>Action and Adventure|Art House and Internation...</td>\n",
       "      <td>David Mickey Evans</td>\n",
       "      <td>Luc Besson</td>\n",
       "      <td>Sep 27, 2001</td>\n",
       "      <td>Feb 11, 2003</td>\n",
       "      <td>94 minutes</td>\n",
       "    </tr>\n",
       "  </tbody>\n",
       "</table>\n",
       "<p>1560 rows × 9 columns</p>\n",
       "</div>"
      ],
      "text/plain": [
       "        id                                           synopsis rating  \\\n",
       "0        1  This gritty, fast-paced, and innovative police...      R   \n",
       "1        3  New York City, not-too-distant-future: Eric Pa...      R   \n",
       "2        5  Illeana Douglas delivers a superb performance ...      R   \n",
       "3        6  Michael Douglas runs afoul of a treacherous su...      R   \n",
       "4        7  Michael Douglas runs afoul of a treacherous su...     NR   \n",
       "...    ...                                                ...    ...   \n",
       "1555  1996  Forget terrorists or hijackers -- there's a ha...      R   \n",
       "1556  1997  The popular Saturday Night Live sketch was exp...     PG   \n",
       "1557  1998  Based on a novel by Richard Powell, when the l...      G   \n",
       "1558  1999  The Sandlot is a coming-of-age story about a g...     PG   \n",
       "1559  2000  Suspended from the force, Paris cop Hubert is ...      R   \n",
       "\n",
       "                                                  genre            director  \\\n",
       "0                   Action and Adventure|Classics|Drama    William Friedkin   \n",
       "1                     Drama|Science Fiction and Fantasy    David Cronenberg   \n",
       "2                     Drama|Musical and Performing Arts      Allison Anders   \n",
       "3                            Drama|Mystery and Suspense      Barry Levinson   \n",
       "4                                         Drama|Romance      Rodney Bennett   \n",
       "...                                                 ...                 ...   \n",
       "1555   Action and Adventure|Horror|Mystery and Suspense    Barry Sonnenfeld   \n",
       "1556                 Comedy|Science Fiction and Fantasy        Steve Barron   \n",
       "1557  Classics|Comedy|Drama|Musical and Performing Arts      Gordon Douglas   \n",
       "1558    Comedy|Drama|Kids and Family|Sports and Fitness  David Mickey Evans   \n",
       "1559  Action and Adventure|Art House and Internation...  David Mickey Evans   \n",
       "\n",
       "                                                writer  theater_date  \\\n",
       "0                                       Ernest Tidyman   Oct 9, 1971   \n",
       "1                         David Cronenberg|Don DeLillo  Aug 17, 2012   \n",
       "2                                       Allison Anders  Sep 13, 1996   \n",
       "3                      Paul Attanasio|Michael Crichton   Dec 9, 1994   \n",
       "4                                         Giles Cooper   Dec 9, 1994   \n",
       "...                                                ...           ...   \n",
       "1555                              Joel Coen|Ethan Coen  Aug 18, 2006   \n",
       "1556  Terry Turner|Tom Davis|Dan Aykroyd|Bonnie Turner  Jul 23, 1993   \n",
       "1557  Terry Turner|Tom Davis|Dan Aykroyd|Bonnie Turner   Jan 1, 1962   \n",
       "1558                  David Mickey Evans|Robert Gunter   Apr 1, 1993   \n",
       "1559                                        Luc Besson  Sep 27, 2001   \n",
       "\n",
       "          dvd_date      runtime  \n",
       "0     Sep 25, 2001  104 minutes  \n",
       "1      Jan 1, 2013  108 minutes  \n",
       "2     Apr 18, 2000  116 minutes  \n",
       "3     Aug 27, 1997  128 minutes  \n",
       "4     Aug 27, 1997  200 minutes  \n",
       "...            ...          ...  \n",
       "1555   Jan 2, 2007  106 minutes  \n",
       "1556  Apr 17, 2001   88 minutes  \n",
       "1557  May 11, 2004  111 minutes  \n",
       "1558  Jan 29, 2002  101 minutes  \n",
       "1559  Feb 11, 2003   94 minutes  \n",
       "\n",
       "[1560 rows x 9 columns]"
      ]
     },
     "execution_count": 16,
     "metadata": {},
     "output_type": "execute_result"
    }
   ],
   "source": [
    "rt_info.fillna(method='ffill', inplace=True)\n",
    "rt_info"
   ]
  },
  {
   "cell_type": "code",
   "execution_count": 17,
   "id": "b759f7c5",
   "metadata": {},
   "outputs": [
    {
     "name": "stdout",
     "output_type": "stream",
     "text": [
      "<class 'pandas.core.frame.DataFrame'>\n",
      "RangeIndex: 1560 entries, 0 to 1559\n",
      "Data columns (total 9 columns):\n",
      " #   Column        Non-Null Count  Dtype \n",
      "---  ------        --------------  ----- \n",
      " 0   id            1560 non-null   int64 \n",
      " 1   synopsis      1560 non-null   object\n",
      " 2   rating        1560 non-null   object\n",
      " 3   genre         1560 non-null   object\n",
      " 4   director      1560 non-null   object\n",
      " 5   writer        1560 non-null   object\n",
      " 6   theater_date  1560 non-null   object\n",
      " 7   dvd_date      1560 non-null   object\n",
      " 8   runtime       1560 non-null   object\n",
      "dtypes: int64(1), object(8)\n",
      "memory usage: 109.8+ KB\n"
     ]
    }
   ],
   "source": [
    "rt_info.info()"
   ]
  },
  {
   "cell_type": "code",
   "execution_count": 18,
   "id": "ce3115b0",
   "metadata": {},
   "outputs": [
    {
     "data": {
      "text/plain": [
       "dtype('O')"
      ]
     },
     "execution_count": 18,
     "metadata": {},
     "output_type": "execute_result"
    }
   ],
   "source": [
    "rt_info['theater_date'].dtypes"
   ]
  },
  {
   "cell_type": "code",
   "execution_count": 19,
   "id": "7c250cd4",
   "metadata": {},
   "outputs": [
    {
     "data": {
      "text/plain": [
       "0        Oct 9, 1971\n",
       "1       Aug 17, 2012\n",
       "2       Sep 13, 1996\n",
       "3        Dec 9, 1994\n",
       "4        Dec 9, 1994\n",
       "            ...     \n",
       "1555    Aug 18, 2006\n",
       "1556    Jul 23, 1993\n",
       "1557     Jan 1, 1962\n",
       "1558     Apr 1, 1993\n",
       "1559    Sep 27, 2001\n",
       "Name: theater_date, Length: 1560, dtype: object"
      ]
     },
     "execution_count": 19,
     "metadata": {},
     "output_type": "execute_result"
    }
   ],
   "source": [
    "rt_info['theater_date']"
   ]
  },
  {
   "cell_type": "code",
   "execution_count": 20,
   "id": "3ae1e1b7",
   "metadata": {},
   "outputs": [
    {
     "data": {
      "text/plain": [
       "dtype('<M8[ns]')"
      ]
     },
     "execution_count": 20,
     "metadata": {},
     "output_type": "execute_result"
    }
   ],
   "source": [
    "rt_info['theater_date'] = pd.to_datetime(rt_info['theater_date'])\n",
    "rt_info['theater_date'].dtype"
   ]
  },
  {
   "cell_type": "code",
   "execution_count": 21,
   "id": "a4598d77",
   "metadata": {},
   "outputs": [
    {
     "data": {
      "text/plain": [
       "0       1971\n",
       "1       2012\n",
       "2       1996\n",
       "3       1994\n",
       "4       1994\n",
       "        ... \n",
       "1555    2006\n",
       "1556    1993\n",
       "1557    1962\n",
       "1558    1993\n",
       "1559    2001\n",
       "Name: theater_date, Length: 1560, dtype: int32"
      ]
     },
     "execution_count": 21,
     "metadata": {},
     "output_type": "execute_result"
    }
   ],
   "source": [
    "rt_info['theater_date'] = pd.to_datetime(rt_info['theater_date']).dt.year\n",
    "rt_info['theater_date']"
   ]
  },
  {
   "cell_type": "code",
   "execution_count": 22,
   "id": "a2560616",
   "metadata": {},
   "outputs": [
    {
     "data": {
      "text/plain": [
       "0       False\n",
       "1       False\n",
       "2       False\n",
       "3       False\n",
       "4       False\n",
       "        ...  \n",
       "1555    False\n",
       "1556    False\n",
       "1557    False\n",
       "1558    False\n",
       "1559    False\n",
       "Name: theater_date, Length: 1560, dtype: bool"
      ]
     },
     "execution_count": 22,
     "metadata": {},
     "output_type": "execute_result"
    }
   ],
   "source": [
    "rt_info['theater_date'].isnull()"
   ]
  },
  {
   "cell_type": "code",
   "execution_count": 23,
   "id": "0599ef9f",
   "metadata": {},
   "outputs": [
    {
     "data": {
      "text/plain": [
       "-1.0584045660952397"
      ]
     },
     "execution_count": 23,
     "metadata": {},
     "output_type": "execute_result"
    }
   ],
   "source": [
    "rt_info['theater_date'].skew()"
   ]
  },
  {
   "cell_type": "code",
   "execution_count": 24,
   "id": "02d41cbb",
   "metadata": {},
   "outputs": [
    {
     "data": {
      "text/plain": [
       "1996.0"
      ]
     },
     "execution_count": 24,
     "metadata": {},
     "output_type": "execute_result"
    }
   ],
   "source": [
    "rt_info['theater_date'].median()"
   ]
  },
  {
   "cell_type": "code",
   "execution_count": 25,
   "id": "1a273835",
   "metadata": {},
   "outputs": [],
   "source": [
    "rt_info['theater_date'] = rt_info['theater_date'].fillna(1997.0)"
   ]
  },
  {
   "cell_type": "code",
   "execution_count": 26,
   "id": "eec34723",
   "metadata": {},
   "outputs": [
    {
     "data": {
      "text/plain": [
       "0       1971\n",
       "1       2012\n",
       "2       1996\n",
       "3       1994\n",
       "4       1994\n",
       "        ... \n",
       "1555    2006\n",
       "1556    1993\n",
       "1557    1962\n",
       "1558    1993\n",
       "1559    2001\n",
       "Name: theater_date, Length: 1560, dtype: int32"
      ]
     },
     "execution_count": 26,
     "metadata": {},
     "output_type": "execute_result"
    }
   ],
   "source": [
    "rt_info['theater_date']"
   ]
  },
  {
   "cell_type": "code",
   "execution_count": 27,
   "id": "12f8ff5c",
   "metadata": {},
   "outputs": [],
   "source": [
    "rt_info['theater_date'] = rt_info['theater_date'].astype('int')"
   ]
  },
  {
   "cell_type": "code",
   "execution_count": 28,
   "id": "c28d92ba",
   "metadata": {},
   "outputs": [
    {
     "data": {
      "text/plain": [
       "0       1971\n",
       "1       2012\n",
       "2       1996\n",
       "3       1994\n",
       "4       1994\n",
       "        ... \n",
       "1555    2006\n",
       "1556    1993\n",
       "1557    1962\n",
       "1558    1993\n",
       "1559    2001\n",
       "Name: theater_date, Length: 1560, dtype: int32"
      ]
     },
     "execution_count": 28,
     "metadata": {},
     "output_type": "execute_result"
    }
   ],
   "source": [
    "rt_info['theater_date']"
   ]
  },
  {
   "cell_type": "code",
   "execution_count": 29,
   "id": "34e9ea3b",
   "metadata": {},
   "outputs": [
    {
     "data": {
      "text/html": [
       "<div>\n",
       "<style scoped>\n",
       "    .dataframe tbody tr th:only-of-type {\n",
       "        vertical-align: middle;\n",
       "    }\n",
       "\n",
       "    .dataframe tbody tr th {\n",
       "        vertical-align: top;\n",
       "    }\n",
       "\n",
       "    .dataframe thead th {\n",
       "        text-align: right;\n",
       "    }\n",
       "</style>\n",
       "<table border=\"1\" class=\"dataframe\">\n",
       "  <thead>\n",
       "    <tr style=\"text-align: right;\">\n",
       "      <th></th>\n",
       "      <th>id</th>\n",
       "      <th>synopsis</th>\n",
       "      <th>rating</th>\n",
       "      <th>genre</th>\n",
       "      <th>director</th>\n",
       "      <th>writer</th>\n",
       "      <th>theater_date</th>\n",
       "      <th>dvd_date</th>\n",
       "      <th>runtime</th>\n",
       "    </tr>\n",
       "  </thead>\n",
       "  <tbody>\n",
       "    <tr>\n",
       "      <th>0</th>\n",
       "      <td>1</td>\n",
       "      <td>This gritty, fast-paced, and innovative police...</td>\n",
       "      <td>R</td>\n",
       "      <td>Action and Adventure|Classics|Drama</td>\n",
       "      <td>William Friedkin</td>\n",
       "      <td>Ernest Tidyman</td>\n",
       "      <td>1971</td>\n",
       "      <td>Sep 25, 2001</td>\n",
       "      <td>104 minutes</td>\n",
       "    </tr>\n",
       "    <tr>\n",
       "      <th>1</th>\n",
       "      <td>3</td>\n",
       "      <td>New York City, not-too-distant-future: Eric Pa...</td>\n",
       "      <td>R</td>\n",
       "      <td>Drama|Science Fiction and Fantasy</td>\n",
       "      <td>David Cronenberg</td>\n",
       "      <td>David Cronenberg|Don DeLillo</td>\n",
       "      <td>2012</td>\n",
       "      <td>Jan 1, 2013</td>\n",
       "      <td>108 minutes</td>\n",
       "    </tr>\n",
       "    <tr>\n",
       "      <th>2</th>\n",
       "      <td>5</td>\n",
       "      <td>Illeana Douglas delivers a superb performance ...</td>\n",
       "      <td>R</td>\n",
       "      <td>Drama|Musical and Performing Arts</td>\n",
       "      <td>Allison Anders</td>\n",
       "      <td>Allison Anders</td>\n",
       "      <td>1996</td>\n",
       "      <td>Apr 18, 2000</td>\n",
       "      <td>116 minutes</td>\n",
       "    </tr>\n",
       "    <tr>\n",
       "      <th>3</th>\n",
       "      <td>6</td>\n",
       "      <td>Michael Douglas runs afoul of a treacherous su...</td>\n",
       "      <td>R</td>\n",
       "      <td>Drama|Mystery and Suspense</td>\n",
       "      <td>Barry Levinson</td>\n",
       "      <td>Paul Attanasio|Michael Crichton</td>\n",
       "      <td>1994</td>\n",
       "      <td>Aug 27, 1997</td>\n",
       "      <td>128 minutes</td>\n",
       "    </tr>\n",
       "    <tr>\n",
       "      <th>4</th>\n",
       "      <td>7</td>\n",
       "      <td>Michael Douglas runs afoul of a treacherous su...</td>\n",
       "      <td>NR</td>\n",
       "      <td>Drama|Romance</td>\n",
       "      <td>Rodney Bennett</td>\n",
       "      <td>Giles Cooper</td>\n",
       "      <td>1994</td>\n",
       "      <td>Aug 27, 1997</td>\n",
       "      <td>200 minutes</td>\n",
       "    </tr>\n",
       "    <tr>\n",
       "      <th>...</th>\n",
       "      <td>...</td>\n",
       "      <td>...</td>\n",
       "      <td>...</td>\n",
       "      <td>...</td>\n",
       "      <td>...</td>\n",
       "      <td>...</td>\n",
       "      <td>...</td>\n",
       "      <td>...</td>\n",
       "      <td>...</td>\n",
       "    </tr>\n",
       "    <tr>\n",
       "      <th>1555</th>\n",
       "      <td>1996</td>\n",
       "      <td>Forget terrorists or hijackers -- there's a ha...</td>\n",
       "      <td>R</td>\n",
       "      <td>Action and Adventure|Horror|Mystery and Suspense</td>\n",
       "      <td>Barry Sonnenfeld</td>\n",
       "      <td>Joel Coen|Ethan Coen</td>\n",
       "      <td>2006</td>\n",
       "      <td>Jan 2, 2007</td>\n",
       "      <td>106 minutes</td>\n",
       "    </tr>\n",
       "    <tr>\n",
       "      <th>1556</th>\n",
       "      <td>1997</td>\n",
       "      <td>The popular Saturday Night Live sketch was exp...</td>\n",
       "      <td>PG</td>\n",
       "      <td>Comedy|Science Fiction and Fantasy</td>\n",
       "      <td>Steve Barron</td>\n",
       "      <td>Terry Turner|Tom Davis|Dan Aykroyd|Bonnie Turner</td>\n",
       "      <td>1993</td>\n",
       "      <td>Apr 17, 2001</td>\n",
       "      <td>88 minutes</td>\n",
       "    </tr>\n",
       "    <tr>\n",
       "      <th>1557</th>\n",
       "      <td>1998</td>\n",
       "      <td>Based on a novel by Richard Powell, when the l...</td>\n",
       "      <td>G</td>\n",
       "      <td>Classics|Comedy|Drama|Musical and Performing Arts</td>\n",
       "      <td>Gordon Douglas</td>\n",
       "      <td>Terry Turner|Tom Davis|Dan Aykroyd|Bonnie Turner</td>\n",
       "      <td>1962</td>\n",
       "      <td>May 11, 2004</td>\n",
       "      <td>111 minutes</td>\n",
       "    </tr>\n",
       "    <tr>\n",
       "      <th>1558</th>\n",
       "      <td>1999</td>\n",
       "      <td>The Sandlot is a coming-of-age story about a g...</td>\n",
       "      <td>PG</td>\n",
       "      <td>Comedy|Drama|Kids and Family|Sports and Fitness</td>\n",
       "      <td>David Mickey Evans</td>\n",
       "      <td>David Mickey Evans|Robert Gunter</td>\n",
       "      <td>1993</td>\n",
       "      <td>Jan 29, 2002</td>\n",
       "      <td>101 minutes</td>\n",
       "    </tr>\n",
       "    <tr>\n",
       "      <th>1559</th>\n",
       "      <td>2000</td>\n",
       "      <td>Suspended from the force, Paris cop Hubert is ...</td>\n",
       "      <td>R</td>\n",
       "      <td>Action and Adventure|Art House and Internation...</td>\n",
       "      <td>David Mickey Evans</td>\n",
       "      <td>Luc Besson</td>\n",
       "      <td>2001</td>\n",
       "      <td>Feb 11, 2003</td>\n",
       "      <td>94 minutes</td>\n",
       "    </tr>\n",
       "  </tbody>\n",
       "</table>\n",
       "<p>1560 rows × 9 columns</p>\n",
       "</div>"
      ],
      "text/plain": [
       "        id                                           synopsis rating  \\\n",
       "0        1  This gritty, fast-paced, and innovative police...      R   \n",
       "1        3  New York City, not-too-distant-future: Eric Pa...      R   \n",
       "2        5  Illeana Douglas delivers a superb performance ...      R   \n",
       "3        6  Michael Douglas runs afoul of a treacherous su...      R   \n",
       "4        7  Michael Douglas runs afoul of a treacherous su...     NR   \n",
       "...    ...                                                ...    ...   \n",
       "1555  1996  Forget terrorists or hijackers -- there's a ha...      R   \n",
       "1556  1997  The popular Saturday Night Live sketch was exp...     PG   \n",
       "1557  1998  Based on a novel by Richard Powell, when the l...      G   \n",
       "1558  1999  The Sandlot is a coming-of-age story about a g...     PG   \n",
       "1559  2000  Suspended from the force, Paris cop Hubert is ...      R   \n",
       "\n",
       "                                                  genre            director  \\\n",
       "0                   Action and Adventure|Classics|Drama    William Friedkin   \n",
       "1                     Drama|Science Fiction and Fantasy    David Cronenberg   \n",
       "2                     Drama|Musical and Performing Arts      Allison Anders   \n",
       "3                            Drama|Mystery and Suspense      Barry Levinson   \n",
       "4                                         Drama|Romance      Rodney Bennett   \n",
       "...                                                 ...                 ...   \n",
       "1555   Action and Adventure|Horror|Mystery and Suspense    Barry Sonnenfeld   \n",
       "1556                 Comedy|Science Fiction and Fantasy        Steve Barron   \n",
       "1557  Classics|Comedy|Drama|Musical and Performing Arts      Gordon Douglas   \n",
       "1558    Comedy|Drama|Kids and Family|Sports and Fitness  David Mickey Evans   \n",
       "1559  Action and Adventure|Art House and Internation...  David Mickey Evans   \n",
       "\n",
       "                                                writer  theater_date  \\\n",
       "0                                       Ernest Tidyman          1971   \n",
       "1                         David Cronenberg|Don DeLillo          2012   \n",
       "2                                       Allison Anders          1996   \n",
       "3                      Paul Attanasio|Michael Crichton          1994   \n",
       "4                                         Giles Cooper          1994   \n",
       "...                                                ...           ...   \n",
       "1555                              Joel Coen|Ethan Coen          2006   \n",
       "1556  Terry Turner|Tom Davis|Dan Aykroyd|Bonnie Turner          1993   \n",
       "1557  Terry Turner|Tom Davis|Dan Aykroyd|Bonnie Turner          1962   \n",
       "1558                  David Mickey Evans|Robert Gunter          1993   \n",
       "1559                                        Luc Besson          2001   \n",
       "\n",
       "          dvd_date      runtime  \n",
       "0     Sep 25, 2001  104 minutes  \n",
       "1      Jan 1, 2013  108 minutes  \n",
       "2     Apr 18, 2000  116 minutes  \n",
       "3     Aug 27, 1997  128 minutes  \n",
       "4     Aug 27, 1997  200 minutes  \n",
       "...            ...          ...  \n",
       "1555   Jan 2, 2007  106 minutes  \n",
       "1556  Apr 17, 2001   88 minutes  \n",
       "1557  May 11, 2004  111 minutes  \n",
       "1558  Jan 29, 2002  101 minutes  \n",
       "1559  Feb 11, 2003   94 minutes  \n",
       "\n",
       "[1560 rows x 9 columns]"
      ]
     },
     "execution_count": 29,
     "metadata": {},
     "output_type": "execute_result"
    }
   ],
   "source": [
    "rt_info"
   ]
  },
  {
   "cell_type": "code",
   "execution_count": 30,
   "id": "60072b20",
   "metadata": {},
   "outputs": [
    {
     "data": {
      "text/plain": [
       "0"
      ]
     },
     "execution_count": 30,
     "metadata": {},
     "output_type": "execute_result"
    }
   ],
   "source": [
    "#Check for duplicates\n",
    "rt_info.duplicated().sum()"
   ]
  },
  {
   "cell_type": "code",
   "execution_count": 31,
   "id": "ac0c38b8",
   "metadata": {},
   "outputs": [],
   "source": [
    "rt_info.to_csv(r\"C:\\Users\\Magda\\OneDrive\\Documents\\Flatiron\\cleaned_rt.movie_info.tsv\", index=False)"
   ]
  },
  {
   "cell_type": "code",
   "execution_count": 32,
   "id": "b5f60e36",
   "metadata": {},
   "outputs": [
    {
     "data": {
      "text/plain": [
       "'This gritty, fast-paced, and innovative police drama earned five Academy Awards, including Best Picture, Best Adapted Screenplay (written by Ernest Tidyman), and Best Actor (Gene Hackman). Jimmy \"Popeye\" Doyle (Hackman) and his partner, Buddy Russo (Roy Scheider), are New York City police detectives on narcotics detail, trying to track down the source of heroin from Europe into the United States. Suave Alain Charnier (Fernando Rey) is the French drug kingpin who provides a large percentage of New York City\\'s dope, and Pierre Nicoli (Marcel Bozzuffi) is a hired killer and Charnier\\'s right-hand man. Acting on a hunch, Popeye and Buddy start tailing Sal Boca (Tony Lo Bianco) and his wife, Angie (Arlene Faber), who live pretty high for a couple whose corner store brings in about 7,000 dollars a year. It turns out Popeye\\'s suspicions are right -- Sal and Angie are the New York agents for Charnier, who will be smuggling 32 million dollars\\' worth of heroin into the city in a car shipped over from France. The French Connection broke plenty of new ground for screen thrillers; Popeye Doyle was a highly unusual \"hero,\" an often violent, racist, and mean-spirited cop whose dedication to his job fell just short of dangerous obsession. The film\\'s high point, a high-speed car chase with Popeye tailing an elevated train, was one of the most viscerally exciting screen moments of its day and set the stage for dozens of action sequences to follow. And the film\\'s grimy realism (and downbeat ending) was a big change from the buff-and-shine gloss and good-guys-always-win heroics of most police dramas that preceded it. The French Connection was inspired by a true story, and Eddie Egan and Sonny Grosso, Popeye and Buddy\\'s real life counterparts, both have small roles in the film. A sequel followed four years later.'"
      ]
     },
     "execution_count": 32,
     "metadata": {},
     "output_type": "execute_result"
    }
   ],
   "source": [
    "rt_info['synopsis'][0]"
   ]
  },
  {
   "cell_type": "code",
   "execution_count": 34,
   "id": "157cb5ff",
   "metadata": {},
   "outputs": [
    {
     "data": {
      "text/plain": [
       "\"Suspended from the force, Paris cop Hubert is summoned to Tokyo when his former lover Miko dies. Upon arriving, Hubert discovers he is to be the legal guardian for Miko's teen daughter Yumi. As Hubert begins to investigate the circumstances surrounding Miko's mysterious death, he grows closer to Yumi.\""
      ]
     },
     "execution_count": 34,
     "metadata": {},
     "output_type": "execute_result"
    }
   ],
   "source": [
    "rt_info['synopsis'][1559]"
   ]
  },
  {
   "cell_type": "code",
   "execution_count": null,
   "id": "e313eaf7",
   "metadata": {},
   "outputs": [],
   "source": []
  }
 ],
 "metadata": {
  "kernelspec": {
   "display_name": "Python 3 (ipykernel)",
   "language": "python",
   "name": "python3"
  },
  "language_info": {
   "codemirror_mode": {
    "name": "ipython",
    "version": 3
   },
   "file_extension": ".py",
   "mimetype": "text/x-python",
   "name": "python",
   "nbconvert_exporter": "python",
   "pygments_lexer": "ipython3",
   "version": "3.11.5"
  }
 },
 "nbformat": 4,
 "nbformat_minor": 5
}
